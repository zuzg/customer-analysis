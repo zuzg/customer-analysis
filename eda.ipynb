{
 "cells": [
  {
   "cell_type": "code",
   "execution_count": null,
   "metadata": {},
   "outputs": [],
   "source": []
  }
 ],
 "metadata": {
  "kernelspec": {
   "display_name": "Python 3",
   "language": "python",
   "name": "python3"
  },
  "language_info": {
   "name": "python",
   "version": "3.10.0"
  },
  "orig_nbformat": 4,
  "vscode": {
   "interpreter": {
    "hash": "a8b8f61d26c4a5c292c061526bb297c6a0d3657fadaebaf6c86054c3d4fc2016"
   }
  }
 },
 "nbformat": 4,
 "nbformat_minor": 2
}
